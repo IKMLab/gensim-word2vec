{
 "cells": [
  {
   "cell_type": "code",
   "execution_count": null,
   "metadata": {
    "collapsed": false,
    "scrolled": true
   },
   "outputs": [
    {
     "name": "stderr",
     "output_type": "stream",
     "text": [
      "Building prefix dict from the default dictionary ...\n",
      "Loading model from cache c:\\users\\hi\\appdata\\local\\temp\\jieba.cache\n",
      "Loading model cost 1.249 seconds.\n",
      "Prefix dict has been built succesfully.\n"
     ]
    },
    {
     "name": "stdout",
     "output_type": "stream",
     "text": [
      "=================================\n",
      "1\n",
      "=================================\n",
      "中興手工養生甜品\n",
      "和茗甘味處\n"
     ]
    }
   ],
   "source": [
    "#encoding=utf-8\n",
    "#將愛評網文章爬至comment.txt\n",
    "import jieba\n",
    "import jieba.analyse\n",
    "import requests\n",
    "import re\n",
    "from bs4 import BeautifulSoup\n",
    "import re\n",
    "\n",
    "stop = {}.fromkeys([ line.rstrip() for line in open('stop_words.txt') ])\n",
    "jieba.load_userdict(\"userdict.txt\")\n",
    "        \n",
    "for av in range(1,16):\n",
    "    print \"=================================\"\n",
    "    print av\n",
    "    print \"=================================\"\n",
    "    k = \"http://www.ipeen.com.tw/search/taipei/000/1-0-15-0/\"\n",
    "    if av != 1:\n",
    "        k = k + \"?p=\" + str(av)\n",
    "    res = requests.get(k)\n",
    "    c = res.text.encode('utf8')\n",
    "    c1 = c.strip().split('\" target=\"_blank\" class=\"a37 ga_tracking\"')\n",
    "    for j in range(0,15):#1改15\n",
    "        try:\n",
    "            shop = \"\"\n",
    "            c2 = c1[j].strip().split('<a href=\"/shop/')\n",
    "            if j == 0:\n",
    "                shop = c2[1]\n",
    "                c3 = c2[1].strip().split('-')#c3[0]放的是編號\n",
    "            else:\n",
    "                try:\n",
    "                    shop = c2[2]\n",
    "                    c3 = c2[2].strip().split('-')#c3[0]放的是編號\n",
    "                except:\n",
    "                    shop = c2[1]\n",
    "                    c3 = c2[1].strip().split('-')#c3[0]放的是編號\n",
    "            print c3[1]\n",
    "            page = \"http://www.ipeen.com.tw/shop/\" + shop\n",
    "            pageres = requests.get(page)\n",
    "            d = pageres.text.encode('utf8')\n",
    "            d1 = d.strip().split('data-action=\"tabs_comments\" data-label=\"分享文 (')\n",
    "            d2 = d1[1].strip().split(')')\n",
    "            d3 = d.strip().split('\"  target=\"_blank\" class=\"ga_tracking\"')\n",
    "            commentnum = 0\n",
    "            if int(d2[0]) > 5:\n",
    "                commentnum = 5\n",
    "            else:\n",
    "                commentnum = int(d2[0])\n",
    "            try:\n",
    "                for l in range(0, commentnum):#1改commentnum\n",
    "                    d4 = d3[l].split('<a href=\"/comment/')\n",
    "                    m = 0\n",
    "                    try:\n",
    "                        while d4[m] != None:\n",
    "                            m = m + 1\n",
    "                    except:\n",
    "                        pass\n",
    "                    m = m - 1\n",
    "                    comment = \"http://www.ipeen.com.tw/comment/\" + d4[m]\n",
    "                    commentres = requests.get(comment)\n",
    "                    e = commentres.text.encode('utf8')\n",
    "                    e1 = e.split('<div class=\"description\">')\n",
    "                    e1 = e1[1].split('</div>')\n",
    "                    e2 = e1[0].replace(\"<br>\", \"\")\n",
    "                    e2 = re.sub(\"(<[^>]+>)\", \"\", e2)\n",
    "                    e2 = e2.strip()\n",
    "                    e3 = e2.split('\\n')\n",
    "                    for n in range (0, len(e3)):\n",
    "                        if e3[n] != \"\\t\" and e3[n] != \"\" and e3[n] != \" \":\n",
    "                            write = \"\".encode('utf8')\n",
    "                            words = jieba.cut(e3[n], cut_all=False)\n",
    "                            for word in words:\n",
    "                                w = word.encode('utf8')\n",
    "                                stop_w = 0\n",
    "                                for a in stop:\n",
    "                                    if w == a:\n",
    "                                        stop_w = 1\n",
    "                                if stop_w ==0:\n",
    "                                    write = write + w + \" \"\n",
    "                            f = open('comment1229.txt', 'a')\n",
    "                            f.write(write + \"\\n\")\n",
    "                            f.close()\n",
    "\n",
    "            except:\n",
    "                pass\n",
    "        except:\n",
    "            pass"
   ]
  },
  {
   "cell_type": "code",
   "execution_count": null,
   "metadata": {
    "collapsed": true
   },
   "outputs": [],
   "source": []
  },
  {
   "cell_type": "code",
   "execution_count": null,
   "metadata": {
    "collapsed": true
   },
   "outputs": [],
   "source": []
  },
  {
   "cell_type": "code",
   "execution_count": null,
   "metadata": {
    "collapsed": true
   },
   "outputs": [],
   "source": []
  },
  {
   "cell_type": "code",
   "execution_count": null,
   "metadata": {
    "collapsed": true
   },
   "outputs": [],
   "source": []
  }
 ],
 "metadata": {
  "kernelspec": {
   "display_name": "Python 2",
   "language": "python",
   "name": "python2"
  },
  "language_info": {
   "codemirror_mode": {
    "name": "ipython",
    "version": 2
   },
   "file_extension": ".py",
   "mimetype": "text/x-python",
   "name": "python",
   "nbconvert_exporter": "python",
   "pygments_lexer": "ipython2",
   "version": "2.7.12"
  }
 },
 "nbformat": 4,
 "nbformat_minor": 1
}
